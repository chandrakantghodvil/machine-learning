{
 "cells": [
  {
   "cell_type": "markdown",
   "metadata": {},
   "source": [
    "# Bankurptcy - Logistic Regression "
   ]
  },
  {
   "cell_type": "markdown",
   "metadata": {},
   "source": [
    "Responce variable : D (0=Bankurupt,1=Healthly )\n",
    "predictors: R1-R24 ( Financial ratios) "
   ]
  },
  {
   "cell_type": "markdown",
   "metadata": {
    "scrolled": false
   },
   "source": [
    "import pandas as pd \n",
    "\n",
    "Bank_logestic=pd.read_csv(\"C:/Users/care/Desktop/Cases/Bankruptcy/Bankruptcy.csv\")\n",
    "\n",
    "Bank_logestic.head()\n"
   ]
  },
  {
   "cell_type": "markdown",
   "metadata": {},
   "source": [
    "###  KFold "
   ]
  },
  {
   "cell_type": "code",
   "execution_count": 11,
   "metadata": {},
   "outputs": [],
   "source": [
    "x=Bank_logestic.iloc[:,2:]\n",
    "y=Bank_logestic.iloc[:,1]\n",
    "from sklearn.model_selection import StratifiedKFold # Here we can use stratified sample for split data in same percentage \n",
    "kfold = StratifiedKFold(n_splits=5, random_state=224)\n",
    "from sklearn.linear_model import LogisticRegression \n",
    "logestic_reg=LogisticRegression()\n",
    "from sklearn.model_selection import cross_val_score"
   ]
  },
  {
   "cell_type": "code",
   "execution_count": 12,
   "metadata": {},
   "outputs": [
    {
     "name": "stdout",
     "output_type": "stream",
     "text": [
      "[0.86734694 0.88757396 0.8816568  0.84023669 0.89349112]\n",
      "ROC AUC: 87.41% (1.90%)\n"
     ]
    }
   ],
   "source": [
    "\n",
    "results = cross_val_score(logestic_reg, x, y, cv=kfold, scoring='roc_auc')\n",
    "print(results)\n",
    "print(\"ROC AUC: %.2f%% (%.2f%%)\" % (results.mean()*100, results.std()*100))\n",
    "import warnings; warnings.simplefilter('ignore')"
   ]
  },
  {
   "cell_type": "code",
   "execution_count": 10,
   "metadata": {},
   "outputs": [
    {
     "name": "stdout",
     "output_type": "stream",
     "text": [
      "[0.85714286 0.80769231 0.80769231 0.80769231 0.80769231]\n",
      "accuracy: 81.76% (1.98%)\n"
     ]
    }
   ],
   "source": [
    "results_acc = cross_val_score(logestic_reg, x, y, cv=kfold, scoring='accuracy')\n",
    "print(results_acc)\n",
    "print(\"accuracy: %.2f%% (%.2f%%)\" % (results_acc.mean()*100, results_acc.std()*100))\n"
   ]
  },
  {
   "cell_type": "markdown",
   "metadata": {},
   "source": [
    "## L1"
   ]
  },
  {
   "cell_type": "code",
   "execution_count": 16,
   "metadata": {},
   "outputs": [
    {
     "name": "stdout",
     "output_type": "stream",
     "text": [
      "The best AUC: 0.8681318681318682\n"
     ]
    }
   ],
   "source": [
    "from sklearn.model_selection import GridSearchCV\n",
    "import numpy as np\n",
    "c_space = np.array([0.01,0.1,0.25,0.3,0.5,0.6,0.7,0.9,1,1.1,1.2,1.5])\n",
    "param_grid = {'C': c_space}\n",
    "logreg = LogisticRegression(penalty='l1')\n",
    "logreg_cv = GridSearchCV(logreg, param_grid, cv=5,scoring='roc_auc')\n",
    "\n",
    "# Fit it to the data\n",
    "logreg_cv.fit(x,y)\n",
    "\n",
    "\n",
    "print(\"The best AUC:\",logreg_cv.best_score_)\n"
   ]
  },
  {
   "cell_type": "code",
   "execution_count": 17,
   "metadata": {},
   "outputs": [
    {
     "name": "stdout",
     "output_type": "stream",
     "text": [
      "{'C': 1.2}\n"
     ]
    }
   ],
   "source": [
    "print(logreg_cv.best_params_)"
   ]
  }
 ],
 "metadata": {
  "kernelspec": {
   "display_name": "Python 3",
   "language": "python",
   "name": "python3"
  },
  "language_info": {
   "codemirror_mode": {
    "name": "ipython",
    "version": 3
   },
   "file_extension": ".py",
   "mimetype": "text/x-python",
   "name": "python",
   "nbconvert_exporter": "python",
   "pygments_lexer": "ipython3",
   "version": "3.7.1"
  }
 },
 "nbformat": 4,
 "nbformat_minor": 2
}
